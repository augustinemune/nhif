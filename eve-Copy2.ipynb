{
 "cells": [
  {
   "cell_type": "code",
   "execution_count": 1,
   "metadata": {},
   "outputs": [],
   "source": [
    "import pandas as pd\n",
    "import numpy as np\n",
    "import os\n",
    "import sys\n",
    "import datetime\n",
    "import calendar\n",
    "import random"
   ]
  },
  {
   "cell_type": "code",
   "execution_count": 2,
   "metadata": {},
   "outputs": [
    {
     "name": "stdout",
     "output_type": "stream",
     "text": [
      "C:\\Users\\MILESCAFE-PC\\Desktop\\python\\NBS\\aaa\\eve\n"
     ]
    }
   ],
   "source": [
    "BASE_DIR = os.getcwd()\n",
    "DATA_DIR = os.path.join(BASE_DIR, 'eve')\n",
    "print(DATA_DIR)\n",
    "WORKING_DIR = os.path.join(DATA_DIR, 'premium')\n",
    "os.makedirs(WORKING_DIR, exist_ok=True)"
   ]
  },
  {
   "cell_type": "code",
   "execution_count": 3,
   "metadata": {},
   "outputs": [],
   "source": [
    "products = {\n",
    "    'Mark': [3000, 2, 24, 26004],\n",
    "    'Mathew': [5000, 4, 62, 45673],\n",
    "    'Grace': [4500, 5, 36, 54323], \n",
    "    'Sarah': [3800, 7, 64, 20054],\n",
    "    'Sue': [6400, 1, 47, 32561],\n",
    "    'Chris': [18000, 4, 45, 26754],\n",
    "    'Leah': [21000, 3, 23, 11013],\n",
    "    'Jasmine': [34000, 6, 56, 43872],\n",
    "    'Daniel': [54000, 6, 65, 25791],\n",
    "    'George': [47650, 7, 56, 17402],\n",
    "    'Cierra': [6750, 3, 23, 13000],\n",
    "    'Alden': [8750, 4, 64, 43569],\n",
    "    'Kierra': [4520, 6, 53, 64530],\n",
    "    'Pierre': [7810, 7, 42, 72345], \n",
    "    'Thomas': [645, 4, 29, 72345], \n",
    "    'Miranda': [4435, 4, 39, 4530], \n",
    "    'Bradyn': [4575, 3, 26, 5400], \n",
    "    'Alvaro': [6455, 3, 33, 16453], \n",
    "    'Nikia': [6545, 3, 27, 27060], \n",
    "    'Georgianna': [6570, 2, 63, 43520],  \n",
    "    'Barbara': [965, 3, 40, 1210], \n",
    "    'Mellisa': [3120, 4, 21, 1000], \n",
    "    'Leone': [4530, 7, 55, 23450],    \n",
    "    'Christi': [5230, 4, 52, 5437],\n",
    "    'Anton': [4780, 5, 28, 6500], \n",
    "    'Ali': [2350, 7, 25, 20000],\n",
    "    'Stanford': [2310, 1, 43, 2200],\n",
    "    'Roderick': [13420, 4, 29, 76543],\n",
    "    'Elizabeth': [23980, 3, 43, 11000],\n",
    "    'Fabian': [16530, 6, 53, 43560],\n",
    "    'Willian': [32460, 6, 69, 24681],\n",
    "    'Peggy': [2010, 7, 67, 34700],\n",
    "    'Gretchen': [16750, 3, 27, 13000],\n",
    "    'Guadalupe': [5430, 4, 46, 40090],\n",
    "    'Gretchen': [3520, 6, 29, 3452],\n",
    "    'Ava': [8170, 7, 40, 76574], \n",
    "    'Adrian': [16345, 4, 39, 67834], \n",
    "    'Silas': [13340, 4, 35, 45030], \n",
    "    'Phillip': [26545, 3, 29, 54005], \n",
    "    'Greg': [4320, 3, 34, 16450], \n",
    "    'Hazel': [9860, 3, 25, 27161], \n",
    "    'Anton': [3450, 2, 54, 44534],  \n",
    "    'Mamie': [1965, 3, 49, 12144], \n",
    "    'Lupe': [4310, 4, 29, 11409], \n",
    "    'Dona': [7640, 7, 59, 28753], \n",
    "}"
   ]
  },
  {
   "cell_type": "code",
   "execution_count": 10,
   "metadata": {},
   "outputs": [],
   "source": [
    "columns = ['Card No', 'Name', 'Spent amount', 'Claim Records', 'Age', 'Date']"
   ]
  },
  {
   "cell_type": "code",
   "execution_count": 5,
   "metadata": {},
   "outputs": [],
   "source": [
    "claim_products = [product for product in products]\n",
    "weights = [products[product][1] for product in products]\n",
    "age = [products[product][2] for product in products]\n",
    "Order_ID = [products[product][3] for product in products]"
   ]
  },
  {
   "cell_type": "code",
   "execution_count": 6,
   "metadata": {},
   "outputs": [
    {
     "data": {
      "text/plain": [
       "'inpatient'"
      ]
     },
     "execution_count": 6,
     "metadata": {},
     "output_type": "execute_result"
    }
   ],
   "source": [
    "from random import choice\n",
    "def get_month_date():\n",
    "    start_date = datetime.date(2018, 1, 1)\n",
    "    end_date = datetime.date(2019, 12, 31)\n",
    "\n",
    "    time_between_dates = end_date - start_date\n",
    "    days_between_dates = time_between_dates.days\n",
    "    random_number_of_days = random.randrange(days_between_dates)\n",
    "    random_date = start_date + datetime.timedelta(days=random_number_of_days)\n",
    "    return(random_date)\n",
    "\n",
    "\n",
    "def benefit_package():\n",
    "    numberList = ['inpatient', 'outpatient']\n",
    "    return(random.choice(numberList))\n",
    "benefit_package()"
   ]
  },
  {
   "cell_type": "code",
   "execution_count": 11,
   "metadata": {},
   "outputs": [],
   "source": [
    "df = pd.DataFrame(columns=columns)\n",
    "\n",
    "\n",
    "for i in range(400):\n",
    "    date = get_month_date()\n",
    "    name = benefit_package()\n",
    "\n",
    "    claim = random.choices(claim_products, weights=weights)[0]\n",
    "    price = products[claim][0]\n",
    "    age = products[claim][2]\n",
    "    Order_ID = products[claim][3]\n",
    "\n",
    "    df.loc[i] = [Order_ID, claim, price, name, age, date]  \n",
    "    \n",
    "    filepath = os.path.join(DATA_DIR, 'premium12.csv')\n",
    "    df.to_csv(filepath, index=False)"
   ]
  },
  {
   "cell_type": "code",
   "execution_count": null,
   "metadata": {},
   "outputs": [],
   "source": []
  },
  {
   "cell_type": "code",
   "execution_count": null,
   "metadata": {},
   "outputs": [],
   "source": []
  },
  {
   "cell_type": "code",
   "execution_count": null,
   "metadata": {},
   "outputs": [],
   "source": []
  }
 ],
 "metadata": {
  "kernelspec": {
   "display_name": "Python 3",
   "language": "python",
   "name": "python3"
  },
  "language_info": {
   "codemirror_mode": {
    "name": "ipython",
    "version": 3
   },
   "file_extension": ".py",
   "mimetype": "text/x-python",
   "name": "python",
   "nbconvert_exporter": "python",
   "pygments_lexer": "ipython3",
   "version": "3.7.3"
  }
 },
 "nbformat": 4,
 "nbformat_minor": 2
}
